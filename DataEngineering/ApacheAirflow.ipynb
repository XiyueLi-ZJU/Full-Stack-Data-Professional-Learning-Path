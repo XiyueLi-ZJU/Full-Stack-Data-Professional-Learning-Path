{
 "cells": [
  {
   "cell_type": "markdown",
   "metadata": {},
   "source": [
    "[Apache Airflow Documentation](https://airflow.apache.org/)\n",
    "- [Airflow Use Cases: ETL/ELT](https://airflow.apache.org/use-cases/etl_analytics/)\n",
    "- [Airflow Use Cases: MLOps](https://airflow.apache.org/use-cases/mlops/)\n",
    "- [Airflow How-to Guides](https://airflow.apache.org/docs/apache-airflow/stable/howto/index.html)"
   ]
  },
  {
   "cell_type": "markdown",
   "metadata": {},
   "source": [
    "To intall Apache Airflow and run a DAG:\n",
    "\n",
    "- Step 1: [Set up your virtual environment](../DataScience/VirtualEnvironment_Anaconda.ipynb)\n",
    "\n",
    "- Step 2: Install Apache Airflow:\n",
    "[Installation and upgrade scenarios](https://airflow.apache.org/docs/apache-airflow/stable/installation/installing-from-pypi.html#installation-and-upgrade-scenarios)\n",
    "    \n",
    "    <span style=\"color:grey\">In terminal, enter:</span>\n",
    "    ````md\n",
    "    AIRFLOW_VERSION=2.9.0\n",
    "    PYTHON_VERSION=\"$(python -c 'import sys; print(f\"{sys.version_info.major}.{sys.version_info.minor}\")')\"\n",
    "    CONSTRAINT_URL=\"https://raw.githubusercontent.com/apache/airflow/constraints-${AIRFLOW_VERSION}/constraints-${PYTHON_VERSION}.txt\"\n",
    "    pip install \"apache-airflow[async,postgres,google]==${AIRFLOW_VERSION}\" --constraint \"${CONSTRAINT_URL}\"\n",
    "    ````\n",
    "- Step 3: Setting up the Apache Airflow Database:\n",
    "[Set up a Database Backend](https://airflow.apache.org/docs/apache-airflow/stable/howto/set-up-database.html)\n",
    "\n",
    "    By default, Apache Airflow use SQLite\n",
    "\n",
    "    <span style=\"color:grey\">In terminal, enter:</span>\n",
    "    ````md\n",
    "    airflow db init\n",
    "    ````\n",
    "- Step 4: Set user profile\n",
    "\n",
    "    <span style=\"color:grey\">In terminal, enter:</span>\n",
    "    ````md\n",
    "    airflow users create --role Admin --username your_username --email your_email --firstname your_firstname --lastname your_lastname --password your_password\n",
    "    ````\n",
    "- Step 5: Start the webserver\n",
    "\n",
    "    <span style=\"color:grey\">In terminal, enter:</span>\n",
    "    ````md\n",
    "    airflow webserver --port 8080\n",
    "    ````\n",
    "- Step 6: In web browser, open Airflow WebUI\n",
    "\n",
    "    <span style=\"color:grey\">In terminal, enter:</span>\n",
    "    ````md\n",
    "    http://0.0.0.0:8080\n",
    "    ````\n",
    "\n",
    "- Step 5: Start the scheduler\n",
    "\n",
    "    <span style=\"color:grey\">In terminal, enter:</span>\n",
    "    ````md\n",
    "    airflow scheduler\n",
    "    ````\n",
    "- Step 6: Create your DAG file\n",
    "- Step 7: Run your DAG "
   ]
  }
 ],
 "metadata": {
  "language_info": {
   "name": "python"
  }
 },
 "nbformat": 4,
 "nbformat_minor": 2
}
