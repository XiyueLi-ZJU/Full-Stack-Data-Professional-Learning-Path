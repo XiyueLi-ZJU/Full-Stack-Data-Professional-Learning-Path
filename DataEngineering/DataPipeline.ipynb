{
 "cells": [
  {
   "cell_type": "markdown",
   "metadata": {},
   "source": [
    "Why do we need automated data pipelines? \n",
    "\n",
    "It is widely acknowledged that in the era of big data, automated data pipelines are essential for efficient data processing. \n",
    "- [Databricks - Extract Transform Load (ETL)](https://www.databricks.com/glossary/extract-transform-load)\n",
    "\n",
    "What about data of relatively small size? Why do we also need automated data pipelines for data processing that seems to be manageable through manual work like copying-pasting? 🤔 \n",
    "\n",
    "Think about this scenario：You are a data engineer in an e-commerce company which has 100 products in five product categories, you are required to provide reports per product category to the Finance team at the end of each month. \n",
    "\n",
    "To provide the report, you need to:\n",
    "- Merge two datasets: [Product] and [MonthlyProductSales]\n",
    "    - [Product]: ProductID, ProductName, Category, UnitCost, UnitPrice\n",
    "    - [MonthlyProductSales]: ProductID and MonthlySalesNum\n",
    "- Calculate 3 metrics: MonthlySalesNum * UnitPrice, MonthlySalesNum * UnitCost, MonthlySalesNum * (UnitPrice-UnitCost)\n",
    "- Save the report of each product category in a separate csv file.\n",
    "\n",
    "This task is not difficult. Technically, you can copy a row in [MonthlyProductSales] and paste it to a row with the same ProductID in the [Product] table and then use Excel functions to calculate the required metrics. It only takes a few hours to complete this task. \n",
    "\n",
    "However, you need to repeat this work every month. 1 working day/month * 12 months/year = 12 working days/year. Additionally, as the company continues to grow, there will be more and more products and categories, can you guarantee that this manual process is error-free? A small error can have a hug impact. \n",
    "\n",
    "💡 Therefore, why not build a data pipeline to automate this time-consuming and error-prone process and use the time saved to do more meaningful things?\n"
   ]
  }
 ],
 "metadata": {
  "language_info": {
   "name": "python"
  }
 },
 "nbformat": 4,
 "nbformat_minor": 2
}
