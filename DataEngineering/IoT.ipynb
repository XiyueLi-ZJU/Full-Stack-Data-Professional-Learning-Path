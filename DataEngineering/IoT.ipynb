{
 "cells": [
  {
   "cell_type": "markdown",
   "metadata": {},
   "source": [
    "**Internet of Things (IoT)**\n",
    "\n",
    "What is IoT?\n",
    "- [IBM - Internet-of-Things](https://www.ibm.com/topics/internet-of-things)\n",
    "- [AWS - What is IoT](https://aws.amazon.com/what-is/iot/)\n",
    "\n",
    "IoT, Streaming data, and Cloud Computing\n",
    "- [Azure Architecture - IoT](https://learn.microsoft.com/en-us/azure/architecture/browse/?filter-products=iot&products=azure-iot%2Cazure-iot-central%2Cazure-iot-edge%2Cazure-iot-hub%2Cazure-iot-sdk)"
   ]
  }
 ],
 "metadata": {
  "language_info": {
   "name": "python"
  }
 },
 "nbformat": 4,
 "nbformat_minor": 2
}
