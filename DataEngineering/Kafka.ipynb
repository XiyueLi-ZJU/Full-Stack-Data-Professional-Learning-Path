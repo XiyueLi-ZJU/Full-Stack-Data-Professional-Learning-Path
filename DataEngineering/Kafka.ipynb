{
 "cells": [
  {
   "cell_type": "markdown",
   "metadata": {},
   "source": [
    "Readings:\n",
    "- [Alex Xu - Top 5 Kafka Use Cases](https://www.linkedin.com/feed/update/urn:li:activity:7182767497157169152/)\n",
    "- [Kai Waehner - Real-Time Logistics, Shipping, and Transportation with apachekafka](https://www.kai-waehner.de/blog/2022/09/29/real-time-logistics-shipping-transportation-with-apache-kafka/)"
   ]
  }
 ],
 "metadata": {
  "language_info": {
   "name": "python"
  }
 },
 "nbformat": 4,
 "nbformat_minor": 2
}
