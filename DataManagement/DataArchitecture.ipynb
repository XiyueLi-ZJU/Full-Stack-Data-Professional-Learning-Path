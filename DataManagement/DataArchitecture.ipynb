{
 "cells": [
  {
   "cell_type": "markdown",
   "id": "cb5ae9f0-d081-4497-a40e-3851e9233260",
   "metadata": {},
   "source": [
    "**Data Architecture** - framework, policies, rules, and models that determine how data is collected, transformed, organized, stored and used across platforms\n",
    "- [IBM - What is a data architecture](https://www.ibm.com/topics/data-architecture)\n",
    "\n",
    "**Data Warehouse** - central repositories of **structured data**; for data analytics and business intelligence\n",
    "\n",
    "- => **Data Mart** - a **subset** of data warehouse focusing on one reporting area\n",
    "    - [IBM - What is a data mart](https://www.ibm.com/topics/data-mart)\n",
    "\n",
    "**Data Lake** - repositories of structured data, semistructured data, and unstructured data\n",
    "\n",
    "**Data Lakehouse** - combines the advantages of data warehouse and data lake\n",
    "- [Databricks - Data Lakehouse](https://www.databricks.com/blog/2020/01/30/what-is-a-data-lakehouse.html?itm_data=lakehouse-link-lakehouseblog)\n",
    "![Data Lakehouse](./datalakehouse.png) (picture from Databricks)\n",
    "\n",
    "**Data Fabric**  \n",
    "- [IBM - What is a data fabric](https://www.ibm.com/topics/data-fabric)\n",
    "\n",
    "**Data Mesh** - domain-oriented, decentralized\n",
    "- [Data Mesh Architecture](https://www.datamesh-architecture.com/)\n",
    "![Data Mesh](./datamesharchitecture.png)\n",
    "(picture from datamesh-architecture.com)\n",
    "\n",
    "---\n",
    "\n",
    "**Data Pipeline** - the **process** of collecting, transforming, moving, and utilizing data\n",
    "\n",
    "\n",
    "**Data Model** - describes what data is required, the relationship between data, and how data is stored \n",
    "- [Integrate.io - Data Modeling vs Data Architecture:\n",
    "5 Differences](https://www.integrate.io/blog/data-modeling-vs-data-architecture-5-critical-differences/#:~:text=Data%20modeling%20focuses%20on%20the%20representation%20of%20the%20data%20while,the%20infrastructure%20housing%20that%20data)\n"
   ]
  }
 ],
 "metadata": {
  "kernelspec": {
   "display_name": "Python 3",
   "language": "python",
   "name": "python3"
  },
  "language_info": {
   "codemirror_mode": {
    "name": "ipython",
    "version": 3
   },
   "file_extension": ".py",
   "mimetype": "text/x-python",
   "name": "python",
   "nbconvert_exporter": "python",
   "pygments_lexer": "ipython3",
   "version": "3.8.8"
  }
 },
 "nbformat": 4,
 "nbformat_minor": 5
}
