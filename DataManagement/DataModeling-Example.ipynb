{
 "cells": [
  {
   "cell_type": "markdown",
   "metadata": {},
   "source": [
    "The project team of **🌱Sqaure Meter Gardening🌱** invites you to join their team and perform data modeling for the initiative, designing the structure of a database to accurately represent the information to be stored and the relationships between data entities, to ensure efficient data management and utilization. "
   ]
  },
  {
   "cell_type": "markdown",
   "metadata": {},
   "source": [
    "**Step 1: Identify the key data entities**\n",
    "\n",
    "- Customers - Individual customers who purchase the product. \n",
    "- Order - Orders placed by customers \n",
    "- Payment - Order payments\n",
    "- Product - Items for sale in the garden \n",
    "- Inventory - The current stock level of each product \n",
    "- Coupon - Discounts that can be applied when make payments\n"
   ]
  },
  {
   "cell_type": "markdown",
   "metadata": {},
   "source": [
    "**Step 2: Define attributes**\n",
    "\n",
    "- Customers - CusomterID, Name, Phone, Email, Address\n",
    "- Order - OrderID, CustomerID, OrderDate, DeliveryDate, DeliveryAddress, Amount\n",
    "- Payment - PaymentID, OrderID, PaymentMethod, Amount \n",
    "- Product - ProductID, ProductName, Description, Category, UnitCost, UnitPrice\n",
    "- Inventory - InventoryID, ProductID, QuantityInStock, LastUpdateTime\n",
    "- Coupon - CouponID, CouponCode, CouponType, Discount, ValidFrom, ValidTo"
   ]
  },
  {
   "cell_type": "markdown",
   "metadata": {},
   "source": [
    "**Step 3: Define relationships between these entities**\n",
    "\n",
    "- [Customer -> Order] One-to-Many: \n",
    "    - One customer can place multiple orders. \n",
    "    - The customer can also create an account but never place an order. \n",
    "- [Coupon -> Order] Many-to-Many: \n",
    "    - In an order, a customer can apply multiple coupons. \n",
    "    - One coupon can also be applied to different orders. \n",
    "    - For example, a customer can apply ‘SpringSale’ and ‘3for2’ coupons in an order. The ‘3for2’ coupon can be applied to multiple orders. \n",
    "    - There may also be discount coupons that have never been used. \n",
    "- [Order -> OrderDetails] One-to-Many: \n",
    "    - One order can include multiple products. We can use ‘OrderDetails’ to record the details of each product include in an order. \n",
    "- [Product -> OrderDetails] One-to-Many: \n",
    "    - Each OrderDetail can be associated with one and only one Product. \n",
    "    - One product can be associated with multiple order details which belong to different orders (one product can be purchased by multiple customers thus be added in multiple orders).  \n",
    "- [Product -> Inventory] One-to-One: \n",
    "    - Each Product has an inventory record and each inventory record represents the stock level of a particular product. \n",
    "- [Order -> Payment] One-to-One: \n",
    "    - Each order must has a payment and each payment is associated with one order.\n",
    "- [Order -> Date] Many-to-One: \n",
    "    - Each order can be associated with one date while multiple orders can be placed on the same date. \n",
    "    - There are also days when there are no orders. \n",
    "\n"
   ]
  },
  {
   "cell_type": "markdown",
   "metadata": {},
   "source": [
    "**Step 4: Create diagram to visualize table relationship**\n",
    "\n",
    "- Primary key (PK) uniquely identifies each record in a table\n",
    "- Foreign key (FK) helps establish relationships between tables by referencing the primary key of another table. \n",
    "\n",
    "![Data Model](./squaremetergardeningdatamodel.png)\n"
   ]
  },
  {
   "cell_type": "markdown",
   "metadata": {},
   "source": [
    "**Step 5: Create database**\n",
    "\n",
    "A SQL database is appropriate for this project. There are many options. The choice of database depends on various factors. Here we use PostgreSQL. \n"
   ]
  }
 ],
 "metadata": {
  "language_info": {
   "name": "python"
  }
 },
 "nbformat": 4,
 "nbformat_minor": 2
}
