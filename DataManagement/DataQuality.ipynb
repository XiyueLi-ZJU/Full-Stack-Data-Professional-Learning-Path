{
 "cells": [
  {
   "cell_type": "markdown",
   "metadata": {},
   "source": [
    "What is Data Quality?\n",
    "[Wikipedia - Data Quality](https://en.wikipedia.org/wiki/Data_quality#:~:text=There%20are%20many%20definitions%20of,construct%20to%20which%20it%20refers.)\n",
    "\n",
    "How to measure/describe Data Quality?\n",
    "[IBM - Dimensions of data quality](https://www.ibm.com/topics/data-quality#:~:text=the%20next%20step-,What%20is%20data%20quality%3F,governance%20initiatives%20within%20an%20organization.)\n",
    "\n",
    "How to assess Data Quality?/How to find Data Quality issues?\n",
    "[talend - Data Profiling](https://www.talend.com/uk/resources/what-is-data-profiling/)\n"
   ]
  }
 ],
 "metadata": {
  "language_info": {
   "name": "python"
  }
 },
 "nbformat": 4,
 "nbformat_minor": 2
}
