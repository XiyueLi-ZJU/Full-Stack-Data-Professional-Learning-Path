{
 "cells": [
  {
   "cell_type": "markdown",
   "id": "655f0f6a",
   "metadata": {},
   "source": [
    "**Database**"
   ]
  },
  {
   "cell_type": "markdown",
   "id": "16e855c6",
   "metadata": {},
   "source": [
    "Database Types\n",
    "- [geeksforgeeks - Types of Databases](https://www.geeksforgeeks.org/types-of-databases/)"
   ]
  },
  {
   "cell_type": "markdown",
   "id": "b5816a15",
   "metadata": {},
   "source": [
    "OLAP VS OLTP\n",
    "\n",
    "- [IBM: OLAP vs. OLTP](https://www.ibm.com/blog/olap-vs-oltp/)\n",
    "- [AWS - OLTP VS OLAP](https://aws.amazon.com/compare/the-difference-between-olap-and-oltp/?nc1=h_ls)\n",
    "- [Azure - OLTP](https://learn.microsoft.com/en-us/azure/architecture/data-guide/relational-data/online-transaction-processing)\n",
    "- [Azure - OLAP](https://learn.microsoft.com/en-us/azure/architecture/data-guide/relational-data/online-analytical-processing)\n",
    "- [Google - OLTP: CloudSQL, OLAP:BigQuery](https://cloud.google.com/datastore/docs/concepts/overview)   \n",
    "    - [Medium - How to select the right Database in Google Cloud](https://medium.com/@johnbulla/how-to-select-the-right-database-in-google-cloud-5ad8b6dd068d)\n"
   ]
  }
 ],
 "metadata": {
  "kernelspec": {
   "display_name": "Python 3",
   "language": "python",
   "name": "python3"
  },
  "language_info": {
   "codemirror_mode": {
    "name": "ipython",
    "version": 3
   },
   "file_extension": ".py",
   "mimetype": "text/x-python",
   "name": "python",
   "nbconvert_exporter": "python",
   "pygments_lexer": "ipython3",
   "version": "3.8.8"
  }
 },
 "nbformat": 4,
 "nbformat_minor": 5
}
