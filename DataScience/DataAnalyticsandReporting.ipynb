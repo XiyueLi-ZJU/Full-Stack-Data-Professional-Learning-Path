{
 "cells": [
  {
   "cell_type": "markdown",
   "id": "c6fc9b92-aca8-4840-9334-672b9a14a1fd",
   "metadata": {},
   "source": [
    "A data analyst's daily tasks include collecting, organizing, and analyzing data, developing models, and reporting. To effectively support decision-making, data analysts not only need to master statistical knowledge and technical skills, but also need to be familiar with industry knowledge and understand the company's business."
   ]
  },
  {
   "cell_type": "markdown",
   "id": "b24c3e62-72e5-47b5-b6a6-36ace10b9741",
   "metadata": {},
   "source": [
    "Consider the following questions before starting your data analysis work:\n",
    "\n",
    "- Where/How to start?\n",
    "    - What is your objective, what questions to answer/explore.\n",
    "- Who are your audiences?\n",
    "    - How stakeholders will use your data analytics results?\n",
    "    - How would the analytics results support decision making?\n",
    "- Where to get data?\n",
    "    - Who should you contact to get data? Where is the data stored, in which system(s)?\n",
    "    - Is the data available correct and up to date?  What’s the quality of data? Stale and poor-quality data will lead to invalid or even faulty conclusions. Decisions based on these conclusions could be harmful to the company.\n",
    "- How to start?\n",
    "    - List your procedures step by step. A clear work plan can help you organize your thoughts, avoid missing important tasks, and help with troubleshooting\n",
    "    - Prioritize the questions that are crucial to the business or nearing the deadline."
   ]
  },
  {
   "cell_type": "markdown",
   "id": "d7988c13-2eea-4fc4-a31d-a8d132b9c92a",
   "metadata": {},
   "source": [
    "Fundamental skills and knowledge for performing data analytics include but are not limited to:\n",
    "\n",
    "**(1) Statistics**\n",
    "\n",
    "Statistics servers as the backbone for data analysis. [Descriptive statistics](https://en.wikipedia.org/wiki/Descriptive_statistics) provide a quantitative summary of the main characteristics of the dataset using measures such as mean, median, and standard deviation.  [Inferential statistics](https://en.wikipedia.org/wiki/Statistical_inference) make inferences and generalizations about a population based on sample data. [Statistics Modelling](https://www.coursera.org/articles/statistical-modeling) uses assumptions and mathematical models to identify patterns, understand relationship between variables, and makes predictions or perform classifications. Controlled Experiment is often used to measure the effects of a change or interference. For example, assess the impact of changing one feature of a product. [A/B testing](https://en.wikipedia.org/wiki/A/B_testing). [Analysis of Variance - ANOVA](https://en.wikipedia.org/wiki/Analysis_of_variance)\n",
    "\n",
    "There are many available courses and training materials online, therefore I won’t go into details here. Here are some useful resources:\n",
    "\n",
    "[1] [W3Schools Statistics Tutorial](https://www.w3schools.com/statistics/index.php)\n",
    "\n",
    "[2] [Massachusetts Institute of Technology - Statistics Cheat Sheet](https://web.mit.edu/~csvoss/Public/usabo/stats_handout.pdf)\n"
   ]
  },
  {
   "cell_type": "markdown",
   "id": "4387ffe6-e1ce-4259-aa25-c64846a5497f",
   "metadata": {},
   "source": [
    "**(2) Reporting**\n",
    "\n",
    "Usually, a data analyst is also responsible for designing and developing reports and dashboards using Python, R, Tableau or PowerBI.\n",
    "\n",
    "**Use visuals to support your conclusion.** \n",
    "A picture is worth 1000 words. There are many resources available online to assist you in choosing suitable visuals for your reporting requirements. Evaluate all appropriate visuals and select one that best meet your business requirements. \n",
    "- [From Data to Viz: find the most appropriate graph](https://www.data-to-viz.com/)\n",
    "- [COLORBREW: color advice for cartography](https://colorbrewer2.org/#type=diverging&scheme=RdBu&n=6)\n",
    "\n",
    "**Select an appropriate visualisation tool.** \n",
    "When selecting a data visualisation tool, it is essential to consider all factors that can impact the effectiveness of data communication in your organization: \n",
    "- (1) Budget for the license of visualisation tools. \n",
    "    - Paid solutions such as **PowerBI** and **Tableau** provide a comprehensive set of visualizations and are easy to use without extensive programming effort. \n",
    "    - **Python** and **R** provide many free but powerful libraries for data visualization. Python: Matplotlib, Plotly, Seaborn, Bokeh. R: ggplot2, Plotly\n",
    "- (2) The technology stack in your organization. Are you using Microsoft Fabric, Azure, AWS or GCP?\n",
    "- (3) Who will read this report and on what devices? Do you need to develop a mobile version? If yes, is the tool you selected mobile-compatible? \n",
    "- (4) Does the report have sensitive information such as finance data? If yes, who have access and at what permission level? You may need to implement Role-Based Access Control (RABC) if the report/dashboard has sensitive data. \n",
    "- (5) How often will the report need to be updated? If you are analyzing streaming data and the reports need to be updated in real time, are there any error handling mechanisms? If the report requires daily or weekly updates, can you automate the pipeline and schedule automated refresh?  \n",
    "\n",
    "**Build SOP (Standard Operating Procedure) that is suitable for your business requirements.** \n",
    "An SOP can not only help you simplify and automate routine and repetitive tasks, but also ensure the task can be completed efficiently and consistently no matter who performed it.\n",
    "\n",
    "**Story telling!** By providing a context for understanding data and analytics results, storytelling helps capture the attention of your stakeholders. In the GPT Era where coding and debugging efficiency have been significantly improved, allocating more time and resources on storytelling is essential for achieving business goals and unlocking new opportunities.\n"
   ]
  },
  {
   "cell_type": "markdown",
   "id": "cde0b3df-ab3a-4bef-9130-c3db55848634",
   "metadata": {},
   "source": [
    "**(3) Programming**\n",
    "\n",
    "To perform data analytics and reporting work, Python, SQL, and DAX (if you use PowerBI) and R are essential. \n",
    "\n",
    "- DAX\n",
    "    - [Microsoft - Data Analysis Expressions (DAX) Reference](https://learn.microsoft.com/en-us/dax/)\n",
    "    - [datacamp - DAX Cheat Sheet](https://www.datacamp.com/cheat-sheet/dax-cheat-sheet)\n",
    "- Python\n",
    "    - [W3 schools - Python Tutorial](https://www.w3schools.com/python/default.asp)\n",
    "    - [pandas - User Guide](https://pandas.pydata.org/docs/user_guide/index.html#user-guide)\n",
    "- SQL \n",
    "    - [W3 schools - SQL Tutorial](https://www.w3schools.com/sql/)\n",
    "    - [datacamp - SQL Basics Cheat Sheet](https://www.datacamp.com/cheat-sheet/sql-basics-cheat-sheet)\n",
    "- R\n",
    "    - [R for Data Science](https://r4ds.had.co.nz/index.html)\n",
    "\n",
    "**How to learn Programming?** There are many tutorials available online. I believe the best way to learn a programming language is to find a tutorial and follow it step by step. Do not skip any part. A seemingly trivial process during learning may have a significant impact later on in a real project, for example, reducing data processing time by 10 times. In the meantime, find a project that you are interested in and complete it. Interest is the best teacher. Enjoy the project and present it to others when you are ready. "
   ]
  }
 ],
 "metadata": {
  "kernelspec": {
   "display_name": "Python 3 (ipykernel)",
   "language": "python",
   "name": "python3"
  },
  "language_info": {
   "codemirror_mode": {
    "name": "ipython",
    "version": 3
   },
   "file_extension": ".py",
   "mimetype": "text/x-python",
   "name": "python",
   "nbconvert_exporter": "python",
   "pygments_lexer": "ipython3",
   "version": "3.11.8"
  }
 },
 "nbformat": 4,
 "nbformat_minor": 5
}
