{
 "cells": [
  {
   "cell_type": "markdown",
   "id": "d2e2916b-898d-4f5b-8999-8da11a5afc39",
   "metadata": {},
   "source": [
    "There are several types of clustering algorithms, each has its pros, cons and best use scenarios. Here are some commonly used clustering algorithms:\n",
    "- K-means\n",
    "- Hierarchical clustering\n",
    "- Spectural clustering \n",
    "- DBSCAN "
   ]
  },
  {
   "cell_type": "markdown",
   "id": "abade723-b95a-4edf-87fb-f9f1580431c7",
   "metadata": {},
   "source": [
    "# Example"
   ]
  },
  {
   "cell_type": "markdown",
   "id": "40056f38-2b27-4f24-9ece-1eb2c517e1aa",
   "metadata": {},
   "source": [
    "## K-means"
   ]
  },
  {
   "cell_type": "markdown",
   "id": "b337eac8-ead9-4a21-8832-90dc081272d6",
   "metadata": {},
   "source": [
    "K-means is used to group samples into a predetermined number of clusters.\n",
    "\n",
    "Centroids are used to represent clusters. The membership of a sample is determined by its similarity to the centroids. The similarity is normally measured by euclidean distance.\n",
    "\n",
    "In the basic K-means algorithm, with \"m\" samples and a number \"n\" for number of clusters. Centroids c1, c2, ... cn are randonmly selected at the initialization stage, then the m samples are each assigned to their nearest centroid and the centorids are recomputed. This process is repeated until the centroids no longer change.\n",
    "\n",
    "The basic K-means is sensitve to the initialization of centroids, to fix this, you can run the k-means algorithm multiple times with different initial centorids.\n",
    "\n",
    "Variants of basic K-means:\n",
    "- Fixed-centroid K-means\n",
    "- K-means++: \n",
    "\n",
    "Questions about K-means clustering\n",
    "https://stats.stackexchange.com/search?q=user:7828+[k-means]"
   ]
  },
  {
   "cell_type": "markdown",
   "id": "445c56a0-b073-47e7-9439-91c8c43361ba",
   "metadata": {},
   "source": [
    "### Implementation of K-means"
   ]
  },
  {
   "cell_type": "markdown",
   "id": "41b9e421-a25f-4871-bb11-a4e66789a4a0",
   "metadata": {},
   "source": [
    "[sklearn.cluster.KMeans](https://scikit-learn.org/stable/modules/generated/sklearn.cluster.KMeans.html)"
   ]
  },
  {
   "cell_type": "code",
   "execution_count": 1,
   "id": "d830974d-3bb6-42ea-8099-b1da61a07351",
   "metadata": {},
   "outputs": [],
   "source": [
    "import pandas as pd\n",
    "import numpy as np\n",
    "import matplotlib.pyplot as plt"
   ]
  },
  {
   "cell_type": "code",
   "execution_count": 2,
   "id": "e627ad8b-aa89-4037-bafc-2db4a761c4e3",
   "metadata": {},
   "outputs": [],
   "source": [
    "from sklearn.cluster import KMeans"
   ]
  },
  {
   "cell_type": "code",
   "execution_count": 3,
   "id": "d28d9cab-1830-439b-b9e2-6c574d4e1353",
   "metadata": {},
   "outputs": [
    {
     "data": {
      "text/html": [
       "<div>\n",
       "<style scoped>\n",
       "    .dataframe tbody tr th:only-of-type {\n",
       "        vertical-align: middle;\n",
       "    }\n",
       "\n",
       "    .dataframe tbody tr th {\n",
       "        vertical-align: top;\n",
       "    }\n",
       "\n",
       "    .dataframe thead th {\n",
       "        text-align: right;\n",
       "    }\n",
       "</style>\n",
       "<table border=\"1\" class=\"dataframe\">\n",
       "  <thead>\n",
       "    <tr style=\"text-align: right;\">\n",
       "      <th></th>\n",
       "      <th>X1</th>\n",
       "      <th>X2</th>\n",
       "    </tr>\n",
       "  </thead>\n",
       "  <tbody>\n",
       "    <tr>\n",
       "      <th>0</th>\n",
       "      <td>88</td>\n",
       "      <td>97</td>\n",
       "    </tr>\n",
       "    <tr>\n",
       "      <th>1</th>\n",
       "      <td>17</td>\n",
       "      <td>65</td>\n",
       "    </tr>\n",
       "    <tr>\n",
       "      <th>2</th>\n",
       "      <td>84</td>\n",
       "      <td>103</td>\n",
       "    </tr>\n",
       "    <tr>\n",
       "      <th>3</th>\n",
       "      <td>75</td>\n",
       "      <td>119</td>\n",
       "    </tr>\n",
       "    <tr>\n",
       "      <th>4</th>\n",
       "      <td>47</td>\n",
       "      <td>117</td>\n",
       "    </tr>\n",
       "  </tbody>\n",
       "</table>\n",
       "</div>"
      ],
      "text/plain": [
       "   X1   X2\n",
       "0  88   97\n",
       "1  17   65\n",
       "2  84  103\n",
       "3  75  119\n",
       "4  47  117"
      ]
     },
     "execution_count": 3,
     "metadata": {},
     "output_type": "execute_result"
    }
   ],
   "source": [
    "X1 = np.random.randint(low=0,high=100,size=50)\n",
    "X2 = np.random.randint(low=50,high=150,size=50)\n",
    "df = pd.DataFrame([X1,X2]).T\n",
    "df.columns=['X1', 'X2']\n",
    "df.head(5)"
   ]
  },
  {
   "cell_type": "code",
   "execution_count": 4,
   "id": "6375db44-5b0b-41e0-b74d-522e4cb9f4ae",
   "metadata": {},
   "outputs": [],
   "source": [
    "clustersn = 2\n",
    "kmeans = KMeans(n_clusters=clustersn).fit(df.values)\n",
    "df['Y'] = kmeans.labels_"
   ]
  },
  {
   "cell_type": "code",
   "execution_count": 5,
   "id": "4768dfa0-ef75-4e2c-be70-8429ab145c4e",
   "metadata": {},
   "outputs": [
    {
     "data": {
      "image/png": "[encoded data removed]",
      "text/plain": [
       "<Figure size 432x288 with 1 Axes>"
      ]
     },
     "metadata": {
      "needs_background": "light"
     },
     "output_type": "display_data"
    }
   ],
   "source": [
    "centroids = kmeans.cluster_centers_\n",
    "centroids_x1 = centroids[:,0]\n",
    "centroids_x2 = centroids[:,1]\n",
    "# plt.scatter(df['X1'],df['X2'])\n",
    "for i in pd.unique(df['Y']):\n",
    "    plt.scatter(df[df['Y']==i].X1.values,df[df['Y']==i].X2.values)\n",
    "plt.scatter(centroids_x1,centroids_x2,marker = \"x\", s=150,linewidths = 5, zorder = 10, c=['red', 'red'])\n",
    "plt.show()"
   ]
  },
  {
   "cell_type": "code",
   "execution_count": 6,
   "id": "0114febd-7683-4162-a3cd-6c71de1d92b2",
   "metadata": {},
   "outputs": [
    {
     "data": {
      "text/plain": [
       "array([1, 0], dtype=int32)"
      ]
     },
     "execution_count": 6,
     "metadata": {},
     "output_type": "execute_result"
    }
   ],
   "source": [
    "kmeans.predict([[0, 0], [55, 190]])"
   ]
  },
  {
   "cell_type": "code",
   "execution_count": 7,
   "id": "7dc399ea-ee26-411b-a656-b22e96ecb590",
   "metadata": {},
   "outputs": [
    {
     "data": {
      "text/plain": [
       "array([[ 78.47826087, 102.30434783],\n",
       "       [ 26.96296296,  96.18518519]])"
      ]
     },
     "execution_count": 7,
     "metadata": {},
     "output_type": "execute_result"
    }
   ],
   "source": [
    "kmeans.cluster_centers_"
   ]
  },
  {
   "cell_type": "markdown",
   "id": "258feda7-95c0-4bcd-a347-a685793bda8b",
   "metadata": {},
   "source": [
    "### Application of K-Means in industry\n",
    "\n",
    "- Marketing, Customer Segmentaion\n",
    "- Geospatial Analysis\n",
    "- Transportation and Logisitcs Routing Optimization \n",
    "- ..."
   ]
  }
 ],
 "metadata": {
  "kernelspec": {
   "display_name": "Python 3",
   "language": "python",
   "name": "python3"
  },
  "language_info": {
   "codemirror_mode": {
    "name": "ipython",
    "version": 3
   },
   "file_extension": ".py",
   "mimetype": "text/x-python",
   "name": "python",
   "nbconvert_exporter": "python",
   "pygments_lexer": "ipython3",
   "version": "3.8.8"
  }
 },
 "nbformat": 4,
 "nbformat_minor": 5
}
