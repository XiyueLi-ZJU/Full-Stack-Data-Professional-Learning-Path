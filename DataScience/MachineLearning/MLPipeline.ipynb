{
 "cells": [
  {
   "cell_type": "markdown",
   "id": "3fbb5ed2-348a-4ad5-af8e-ffbc03676b43",
   "metadata": {},
   "source": [
    "# Machine Learning Project Pipeline\n",
    "\n",
    "- **Define the problem and its scope**: Identify the challenges you have and the solutions you need. This is the initial and crucial step in ML. A well-defined problem sets the direction and scope of the entire project and avoids wasting time and money on irrelevant tasks.\n",
    "- **Preliminary Study**: Ask a few questions before starting the ML project. \n",
    "    - Do you need a machine learning model to solve this problem? \n",
    "    - Is there an out-of-the-box solution, or do you need to build your own from scratch?\n",
    "    - Do you have the required data? Is there enough data to support the model? How is the data quality? \n",
    "    - Do you have the required technologies? \n",
    "    - What is the budget and timeline for this project?\n",
    "- **Data Collection**: Collect the required data from various data sources and store data securely. \n",
    "- **Data Cleaning and Feature Engineering**: Remove outliers, impute missing values, and perform all required transformations to make data suitable for modeling.\n",
    "- **Model Training**: Choose appropriate algorithms/methods and train the model on the training set. \n",
    "- **Model Validation and Hyperparameter Tuning**: Evaluate the model performance on the validation set and adjust the hyperparameters to optimize the model. \n",
    "- **Model Evaluation**: Evaluate the model performance on the test set to assess how the model performs on unseen data. \n",
    "- **Deployment**: Deploy the model to the production environment. \n",
    "- **Monitoring and Maintenance**: Continuously monitor the model. Track metrics, errors, data drift, and model degradation over time. Retrain the model with new data periodically or under certain conditions. \n",
    "\n",
    "# Automated Machine Learning - AutoML\n",
    "\n",
    "AutoML streamlines the ML workflow by automating time-consuming ML processes such as model selection and hyperparameter tuning. AutoML provides opportunities for individuals with limited machine learning experience to leverage ML models and enables all individuals to build ML models quickly and focus on the business problems rather than tedious tasks. \n",
    "\n",
    "# Machine Learning Operations - MLOps\n",
    "\n",
    "MLOps, inspired by DevOps, bridges the gap between ML and operations. MLOps enables businesses to scale ML efforts, maximise the value of models, and make efficient use of resources.\n",
    "\n",
    "To achieve MLOps:\n",
    "- Automation: Automate ML workflows to reduce manual work, minimize errors, increase efficiency, achieve scalability, and ensure consistency.\n",
    "- Version Control: Have a version control of data, models, and code. Track all the changes in all stages.  \n",
    "- CI/CD: Integrate changes seamlessly and deploy the models to production/operation environment smoothly. \n",
    "- Continuous Monitoring: Continuously monitor model performance, errors, and data drift. \n"
   ]
  },
  {
   "cell_type": "markdown",
   "id": "e55a6971-f2df-40ce-be6e-050a51a109a2",
   "metadata": {},
   "source": [
    "# Readings\n",
    "- [(Github) Azure: ML Notebooks](https://github.com/Azure/MachineLearningNotebooks/blob/master/how-to-use-azureml/machine-learning-pipelines/intro-to-pipelines/aml-pipelines-getting-started.ipynb)\n",
    "- [(Github) AWS: Sagemaker Examples](https://github.com/aws/amazon-sagemaker-examples)\n",
    "- [(Github) Microsoft FLAML - A Fast Library for Automated Machine Learning & Tuning](https://github.com/microsoft/FLAML)\n",
    "- [AWS: AutoML Solutions](https://aws.amazon.com/machine-learning/automl/)\n",
    "- [Azure: Automated Machine Learning](https://azure.microsoft.com/en-gb/products/machine-learning/automatedml/)\n",
    "- [Google Cloud: AutoML](https://cloud.google.com/automl)\n",
    "- [Databricks: What are ML Pipelines](https://www.databricks.com/glossary/what-are-ml-pipelines)\n",
    "- [neptune.ai: MLOps: What It Is, Why It Matters, and How to Implement It](https://neptune.ai/blog/mlops#:~:text=It%20applies%20to%20the%20entire,Data%20analysis)\n",
    "- [Google Cloud MLOps: Continuous delivery and automation pipelines in machine learning](https://cloud.google.com/architecture/mlops-continuous-delivery-and-automation-pipelines-in-machine-learning)\n",
    "- [Azure: Machine learning operations](https://azure.microsoft.com/en-gb/products/machine-learning/mlops/#features) "
   ]
  }
 ],
 "metadata": {
  "kernelspec": {
   "display_name": "Python 3",
   "language": "python",
   "name": "python3"
  },
  "language_info": {
   "codemirror_mode": {
    "name": "ipython",
    "version": 3
   },
   "file_extension": ".py",
   "mimetype": "text/x-python",
   "name": "python",
   "nbconvert_exporter": "python",
   "pygments_lexer": "ipython3",
   "version": "3.8.8"
  }
 },
 "nbformat": 4,
 "nbformat_minor": 5
}
