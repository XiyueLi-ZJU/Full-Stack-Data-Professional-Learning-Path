{
 "cells": [
  {
   "cell_type": "markdown",
   "id": "cf5e7448",
   "metadata": {},
   "source": [
    "# AI & Machine Learning \n",
    "\n",
    "Artificial Intelligence (AI) simulates human intelligence and enables machines to have the ability to act and solve complex problems like humans. Machine Learning (ML) is a method to achieve AI. It uses models and algorithms to process, interpret, and learn from massive volumes of data and perform specific tasks such as value prediction and anomaly detection. Nowadays, the blend of **AI & ML**, **IoT**, and **Cloud Computing** provides organizations and companies with the opportunity to automate business processes, unlock valuable insights, make data-driven decisions, and achieve more intelligent operations.\n",
    "\n",
    "## Machine Learning\n",
    "\n",
    "Machine learning models can be generally classified into three types. Each type requires different data and is suitable for different objectives. \n",
    "\n",
    "**Supervised Learning**: The model is trained with data that has inputs and the desired outputs (labels). The goal of the model is to learn the rule to map inputs to outputs so that in the future, if given a new input, the model can “predict” its output correctly.  \n",
    "- Classification: outputs are discrete values\n",
    "- Rgression: outputs are continous (numerical) values\n",
    "\n",
    "**Unsupervised Learning**: The model is trained with data which does not have predefined labels. The goal of the model is to discover hidden structures or patterns of the data.\n",
    "- Clustering: group datapoints into different clusters based on their commonalities\n",
    "- Dimensionality Reduction: reduce the number of variables of data by retaining only essential features \n",
    "\n",
    "**Reinforcement Learning**: The model is trained to make a sequence of decisions and achieve a goal which can be described by maximizing the cumulative rewards or minizing penalities. The model interacts with environment and learns a policy to make decisions based on knowledge learned from previous experience. Reinforcement learning has been applied in many disciplines. For example, RL+Operations Research (OR) can provide solutions for complex, time-consuming, and resource-intensive optimization problems. \n"
   ]
  },
  {
   "cell_type": "markdown",
   "id": "73d59ebc",
   "metadata": {},
   "source": [
    "# AI Applications in Civil Engineering\n",
    "Examples of AI&ML application in Civil Engineering\n",
    "\n",
    "*Structural Engineering*\n",
    "- Structural health monitoring/Smart Infrasctucture: Analyze structural behavior data collected from monitoring devices and identify potential risks \n",
    "- Structural design: Predict structural behaviors and advice on structural designs \n",
    "\n",
    "*Transportation Engineering/Planning* \n",
    "- Travel demand prediction: Analyze historical traffic patterns and forecast future demands\n",
    "- Traffic safety management: Identify crash hotsopots and predict future trends\n",
    "- Route planning: Routing path and scheduling optimization\n",
    "\n",
    "*Construction and Project Managment*\n",
    "- Project scheduling and resource managment: Optimize schedule arrangment and resource managment to maximize efficiency and reduce costs \n",
    "- Predictive maintenance: Perform predictive analysis to help proactively maintain the equipments\n",
    "- Site safety and risk management: Use image recognition to detect and alert risk violations and identify potential risks \n",
    "- Environmental planning: Predict environmental impacts and adopt more sustainable practices \n",
    "\n",
    "…\n",
    "\n",
    "**Related topics**:\n",
    "Digital Twin, Smart Transportation, …\n"
   ]
  },
  {
   "cell_type": "markdown",
   "id": "ad6d7ef9",
   "metadata": {},
   "source": [
    "# Readings/Trainings \n",
    "\n",
    "**Introduction to AI & ML**\n",
    "- [wikipedia: Machine Learning](https://en.wikipedia.org/wiki/Machine_learning)\n",
    "- [Towards Data Science: Machine Learning Types](https://towardsdatascience.com/machine-learning-types-2-c1291d4f04b1)\n",
    "- [Microsoft: Artificial intelligence (AI) vs. machine learning (ML)](https://azure.microsoft.com/en-us/resources/cloud-computing-dictionary/artificial-intelligence-vs-machine-learning)\n",
    "- [AWS: What’s the difference between AI and Machine Learning?](https://aws.amazon.com/compare/the-difference-between-artificial-intelligence-and-machine-learning/)\n",
    "- [IBM: AI vs. Machine Learning vs. Deep Learning vs. Neural Networks: What’s the difference?](https://www.ibm.com/blog/ai-vs-machine-learning-vs-deep-learning-vs-neural-networks/)\n",
    "\n",
    "**Application of AI in Industry**\n",
    "- [Azure customer stories (filters: Product - Artificial Intelligence, Industry - Travel and Transporation)](https://customers.microsoft.com/en-GB/search?sq=&ff=story_industry_friendlyname%26%3ETravel%20and%20Transportation%26%26story_product_categories%26%3EArtificial%20Intelligence&p=0&so=story_publish_date%20desc)\n",
    "- [AWS customer stories (filters: Services Used - Amazon Sagemaker, Industry - Automotive, Energy & Utilities, Real Estate & Construction, Transport & Logistics)](https://aws.amazon.com/machine-learning/customers/?customer-references-cards.sort-by=item.additionalFields.sortDate&customer-references-cards.sort-order=desc&awsf.content-type=*all&awsf.customer-references-location=*all&awsf.customer-references-segment=*all&awsf.customer-references-industry=industry%23automotive%7Cindustry%23energy%7Cindustry%23transport-logistics%7Cindustry%23construction-real-estate&awsf.customer-references-use-case=*all&awsf.customer-references-product=product%23sagemaker)\n",
    "- [GCP case studies (filters: Products- AI&ML, Industry - Transporation, Real Estate & Construction)](https://cloud.google.com/customers#/industries=Real_Estate_%26_Construction,Transportation&products=AI_%26_ML)\n",
    "- [Travel and transportation industry solutions from IBM](https://www.ibm.com/industries/travel-transportation?lnk=flatitem)\n",
    "\n",
    "**Implement ML projects (Trainings)**\n",
    "- [Machine Learning Mastery](https://machinelearningmastery.com/)\n",
    "- [Coursera Machine Learning Specialization](https://www.coursera.org/specializations/machine-learning-introduction)\n",
    "- [Coursera Deep Learning Specialization](https://www.coursera.org/specializations/deep-learning)\n"
   ]
  }
 ],
 "metadata": {
  "kernelspec": {
   "display_name": "Python 3",
   "language": "python",
   "name": "python3"
  },
  "language_info": {
   "codemirror_mode": {
    "name": "ipython",
    "version": 3
   },
   "file_extension": ".py",
   "mimetype": "text/x-python",
   "name": "python",
   "nbconvert_exporter": "python",
   "pygments_lexer": "ipython3",
   "version": "3.8.8"
  }
 },
 "nbformat": 4,
 "nbformat_minor": 5
}
