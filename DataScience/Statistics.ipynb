{
 "cells": [
  {
   "cell_type": "markdown",
   "metadata": {},
   "source": [
    "\n",
    "Statistics servers as the backbone for data science and data analysis. [Descriptive statistics](https://en.wikipedia.org/wiki/Descriptive_statistics) provide a quantitative summary of the main characteristics of the dataset using measures such as mean, median, and standard deviation.  [Inferential statistics](https://en.wikipedia.org/wiki/Statistical_inference) make inferences and generalizations about a population based on sample data. [Statistics Modelling](https://www.coursera.org/articles/statistical-modeling) uses assumptions and mathematical models to identify patterns, understand relationship between variables, and makes predictions or perform classifications. Controlled Experiment is often used to measure the effects of a change or interference. For example, assess the impact of changing one feature of a product. [A/B testing](https://en.wikipedia.org/wiki/A/B_testing). [Analysis of Variance - ANOVA](https://en.wikipedia.org/wiki/Analysis_of_variance)\n",
    "\n",
    "There are many available courses and training materials online, therefore I won’t go into details here. Here are some useful resources:\n",
    "\n",
    "[1] [W3Schools Statistics Tutorial](https://www.w3schools.com/statistics/index.php)\n",
    "\n",
    "[2] [Massachusetts Institute of Technology - Statistics Cheat Sheet](https://web.mit.edu/~csvoss/Public/usabo/stats_handout.pdf)\n",
    "\n",
    "[3] [Datacamp - Descriptive Statistics Cheat Sheet](https://www.datacamp.com/cheat-sheet/descriptive-statistics-cheat-sheet) \n"
   ]
  }
 ],
 "metadata": {
  "language_info": {
   "name": "python"
  }
 },
 "nbformat": 4,
 "nbformat_minor": 2
}
