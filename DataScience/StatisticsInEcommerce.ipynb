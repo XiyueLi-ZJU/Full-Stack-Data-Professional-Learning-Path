{
 "cells": [
  {
   "cell_type": "markdown",
   "metadata": {},
   "source": [
    "**Descriptive statistics**\n",
    "\n",
    "Descriptive statistics play a critical role in summarizing the central tendency and distribution of data. Here’s how different departments in an **e-commerce** company can utilize descriptive statistics:"
   ]
  },
  {
   "cell_type": "markdown",
   "metadata": {},
   "source": [
    "💐 Marketing Department\n",
    "\n",
    "Marketing department can use Mean, Median, Mode and Percentiles to describe website traffic (e.g., average number of visitors per day, average time spent on each page, most visited pages, peak hours) and combine these numbers with other data (e.g., number of items sold per product category, product price) to design better marketing strategies.\n",
    "\n",
    "🧮 Sales Department\n",
    "\n",
    "Sales department can use Mean, Median, Mode and Percentiles of daily, weekly, and monthly sales data to get a understanding of sales performance and sales patterns. This can help set daily sales goals, prepare for days when sales may be high due to special events, and order less products for days when sales may be low. Sales department can also monitor Variance and Standard Deviation of sales data to understand the consistency of sales over time. If Variance and Standard Deviation are high, sales team may need to further investigate the cause of these fluctuations.\n",
    "\n",
    "📞 Customer Service Department\n",
    "\n",
    "Customer service department can monitor the Mean, Median, Mode and Percentiles of time needed to resolve customer support tickets, allocate more resources to types of tickets that require more time to resolve to improve service quality and customer satisfaction.\n",
    "\n",
    "🛒 Product Management Department \n",
    "\n",
    "Product management can identify the most popular products and those that need improvement by analyzing customer product reviews and ratings. By combining the average and distribution of product ratings with customer reviews, product management department can better understand customer requirements, plan for product improvement and the development of new products.\n",
    "\n",
    "🚂 Logistics and Supply Chain Management Department\n",
    "\n",
    "Logistics and supply chain management department can analyze order delivery efficiency and identify bottlenecks by using metrics such as average time from order placement to packing, from packing to order dispatching, and from dispatching to order delivered and the Standard Deviation of time of all these process. \n",
    "\n",
    "\n"
   ]
  }
 ],
 "metadata": {
  "language_info": {
   "name": "python"
  }
 },
 "nbformat": 4,
 "nbformat_minor": 2
}
