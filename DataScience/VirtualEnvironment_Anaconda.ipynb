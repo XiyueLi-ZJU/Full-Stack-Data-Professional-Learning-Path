{
 "cells": [
  {
   "cell_type": "markdown",
   "metadata": {},
   "source": [
    "**Step 0: Install Anaconda**\n",
    "\n",
    "[Anaconda Documentation - Installation (Wizard install) & (Command line install)](https://docs.anaconda.com/free/anaconda/install/mac-os/)\n"
   ]
  },
  {
   "cell_type": "markdown",
   "metadata": {},
   "source": [
    "**Step 1: Create a python environment using Anaconda**\n",
    "\n",
    "<span style=\"color:grey\">For example, to create a python environment named 'ds_demo_env' and activate it:</span>\n",
    "\n",
    "In terminal, enter:\n",
    "````md\n",
    "conda create --name ds_demo_env python=3.11\n",
    "conda activate ds_demo_env\n",
    "````\n",
    "\n",
    "Readings:\n",
    "- [System/Environment configurations](https://docs.anaconda.com/free/working-with-conda/configurations/switch-environment/)"
   ]
  },
  {
   "cell_type": "markdown",
   "metadata": {},
   "source": [
    "**Step 2: Install python libraries**\n",
    "\n",
    "<span style=\"color:grey\">Let's install some commonly used python libraries in data science</span>\n",
    "\n",
    "In terminal, enter:\n",
    "\n",
    "````md\n",
    "conda install anaconda::numpy\n",
    "conda install anaconda::pandas\n",
    "conda install conda-forge::matplotlib\n",
    "conda install anaconda::scikit-learn\n",
    "````\n",
    "\n",
    "Readings:\n",
    "- [Python Function, Module, Package, Library](https://www.youtube.com/watch?app=desktop&v=e7MsoJsO0WY)\n",
    "- Find more [anaconda packages](https://anaconda.org/anaconda/repo)"
   ]
  },
  {
   "cell_type": "markdown",
   "metadata": {},
   "source": [
    "**Step 3: Start your data science project**\n",
    "\n",
    "<span style=\"color:grey\">Now, start your data science project with jupyter notebook</span>\n",
    "\n",
    "In terminal, enter:\n",
    "\n",
    "````md\n",
    "conda activate ds_demo_env\n",
    "pip install jupyter\n",
    "pip install notebook\n",
    "jupyter notebook\n",
    "````\n"
   ]
  },
  {
   "cell_type": "markdown",
   "metadata": {},
   "source": [
    "**Step 4: Manage your environment**\n",
    "\n",
    "<span style=\"color:blue\">**YAML file**</span>\n",
    "\n",
    "You may want to export your environment to a yml file to:\n",
    "- replicate an existing environment on another machine\n",
    "- enable all team members to use the same environment in a collaborative project\n",
    "- fast deployment of your project \n",
    "- version control and backup\n",
    "\n",
    "**(1) Export your environment to yml file**\n",
    "\n",
    "<span style=\"color:grey\">For example, export 'ds_demo_env' to 'ds_demo_env_file.yml':</span>\n",
    "\n",
    "In terminal, enter:\n",
    "\n",
    "````md\n",
    "conda activate ds_demo_env\n",
    "conda env export > ds_demo_env_file.yml\n",
    "````\n",
    "\n",
    "**(2) Create a new environment from yml file**\n",
    "\n",
    "<span style=\"color:grey\">For example, create a new environment named 'ds_env_proj1' using 'ds_demo_env_file.yml':</span>\n",
    "\n",
    "In terminal, enter:\n",
    "\n",
    "````md \n",
    "conda env create --name ds_env_proj1 -f ds_demo_env_file.yml\n",
    "````\n",
    "Then activate new environment (ds_env_proj1) and intall new python packages if required.\n",
    "\n",
    "<span style=\"color:blue\">**Clone from base environment**</span>\n",
    "\n",
    "<span style=\"color:grey\">For example, clone 'ds_demo_env' to create a new environment named 'ds_env_proj2':</span>\n",
    "\n",
    "````md\n",
    "conda create --name ds_env_proj2 --clone ds_demo_env\n",
    "````\n",
    "Then activate new environment (ds_env_proj2) and intall new python packages if required.\n",
    "\n",
    "Readings:\n",
    "- [conda: manage-environments](https://conda.io/projects/conda/en/latest/user-guide/tasks/manage-environments.html)"
   ]
  },
  {
   "cell_type": "markdown",
   "metadata": {},
   "source": [
    "(Optional) **Activate your environment in VS Code**\n",
    "\n",
    "- In VSCode, press <span style=\"color:purple\">Shift+Command+X</span> to open VSCode Extension, search for <span style=\"color:purple\">Python</span> extension and install it\n",
    "- Press <span style=\"color:purple\">Shift+Command+P</span> to open the Command Palette, type 'Python: Select interpreter'\n",
    "- Select the environment you just created\n",
    "\n",
    "Readings:\n",
    "- [Visual Studio Code - Environments](https://code.visualstudio.com/docs/python/environments)\n",
    "- [SaturnCloud - Activate Anaconda Environment in VSCode](https://saturncloud.io/blog/activating-anaconda-environment-in-vscode-a-guide-for-data-scientists/#:~:text=To%20activate%20the%20Anaconda%20environment,corresponds%20to%20your%20Anaconda%20environment.)"
   ]
  },
  {
   "cell_type": "markdown",
   "metadata": {},
   "source": [
    "Readings:\n",
    "\n",
    "- [Medium - How, what and why you should use **Anaconda, Miniconda and Conda**](https://towardsdatascience.com/get-your-computer-ready-for-machine-learning-how-what-and-why-you-should-use-anaconda-miniconda-d213444f36d6)\n",
    "- [Conda Cheat sheet](https://conda.io/projects/conda/en/latest/user-guide/cheatsheet.html)\n",
    "- [Visual Studio Code - Keyboard shortcuts for macOS](https://code.visualstudio.com/shortcuts/keyboard-shortcuts-macos.pdf)\n",
    "- [Visual Studio Code - Keyboard shortcuts for Windows](https://code.visualstudio.com/shortcuts/keyboard-shortcuts-windows.pdf)"
   ]
  }
 ],
 "metadata": {
  "language_info": {
   "name": "python"
  }
 },
 "nbformat": 4,
 "nbformat_minor": 2
}
