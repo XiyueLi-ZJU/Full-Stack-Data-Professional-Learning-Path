{
 "cells": [
  {
   "cell_type": "markdown",
   "metadata": {},
   "source": [
    "As the data architect of the **🌱Sqaure Meter Gardening🌱** e-commerce business, you are responsible for establishing a robust data architecture that enables efficient data storage, processing, and analysis to support your organization’s operations and growth.\n"
   ]
  },
  {
   "cell_type": "markdown",
   "metadata": {},
   "source": [
    "The project now mainly have four data sources:\n",
    "- User Data: User profiles, demographics, preferences, purchase history, etc.\n",
    "- Product Data: Product catalogs, inventory information, pricing, descriptions, etc.\n",
    "- Order Data: Order details, payment information, shipping details, etc.\n",
    "- Website User Interaction Data: user clicks, page views, session information, add-to-cart events, purchases, etc.\n"
   ]
  },
  {
   "cell_type": "markdown",
   "metadata": {},
   "source": [
    "Architecture Design:\n",
    "\n",
    "![Architecture Design](./DataArchitecture.png)"
   ]
  },
  {
   "cell_type": "markdown",
   "metadata": {},
   "source": [
    "For **Structured data** such as user profiles and product catalogs, **Azure SQL Database** or Azure Database for MySQL/PostgreSQL can be suitable options. For **Semi-Structured data** such as user website interactions logs (e.g., clicks, add to cart) and **Unstructured data** such as product Images and videos, **Azure Blob Storage** can be a cost-effective solution. \n",
    "\n",
    "\n",
    "You decide to use **Azure Data Factory** to collect, transform and integrate data and use **Azure Synapse Analytics** as a data warehouse to store cleaned, preprocessed, and transformed data. For advanced data analytics work such as analyzing transaction data to identify purchasing patterns, you decide to use **Azure Synapse Analytics** and **Azure Databricks**. You also integrate **Azure Machine Learning** in the workflow to leverage the power of of machine learning capabilities. The results of advanced data analytics and machine learning modeling together can help the team gain deeper insights from data assets and enhance business decision-making process. \n",
    "\n",
    "\n",
    "Given the platform's utilization of Azure services, you decide to employ **Power BI** as the reporting tool. The interactive dashboards and reports will facilitate all team members work together to understand customer requirements better, enable strategic planning and continuous improvement across all facets of the business. This will ultimately enhance the overall competitiveness of the company in the dynamic e-commerce landscape.\n",
    "\n",
    "\n",
    "By harnessing the capabilities of all these tools ans services, you establish a data architect that will help unlock the full potential of your data and ultimately drive business growth.\n"
   ]
  },
  {
   "cell_type": "markdown",
   "metadata": {},
   "source": [
    "Readings\n",
    "\n",
    "- [Azure - Architect scalable e-commerce web app](https://learn.microsoft.com/en-us/azure/architecture/web-apps/idea/scalable-ecommerce-web-app)\n",
    "- [Azure Architecture - e-commerce](https://learn.microsoft.com/en-us/azure/architecture/browse/?terms=e-commerce)\n",
    "- [Azure Databricks - lakehouse](https://learn.microsoft.com/en-us/azure/databricks/lakehouse/)\n"
   ]
  }
 ],
 "metadata": {
  "language_info": {
   "name": "python"
  }
 },
 "nbformat": 4,
 "nbformat_minor": 2
}
