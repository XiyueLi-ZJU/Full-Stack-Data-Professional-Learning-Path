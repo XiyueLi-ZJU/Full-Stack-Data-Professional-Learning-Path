{
 "cells": [
  {
   "cell_type": "markdown",
   "metadata": {},
   "source": [
    "The project team of **🌱Sqaure Meter Gardening🌱** invites you to join their team and perform data modeling for the initiative, designing the structure of a database to accurately represent the information to be stored and the relationships between data entities, to ensure efficient data management and utilization. "
   ]
  },
  {
   "cell_type": "markdown",
   "metadata": {},
   "source": [
    "**Step 1: Identify the key data entities**\n",
    "\n",
    "- Customers - Individual customers who purchase the product. \n",
    "- Order - Orders placed by customers \n",
    "- Payment - Order payments\n",
    "- Product - Items for sale in the garden \n",
    "- Inventory - The current stock level of each product \n",
    "- Coupon - Discounts that can be applied when make payments\n"
   ]
  },
  {
   "cell_type": "markdown",
   "metadata": {},
   "source": [
    "**Step 2: Define attributes**\n",
    "\n",
    "- Customers - CusomterID, Name, Phone, Email, Address\n",
    "- Order - OrderID, CustomerID, OrderDate, DeliveryDate, DeliveryAddress, Amount\n",
    "- Payment - PaymentID, OrderID, PaymentMethod, Amount \n",
    "- Product - ProductID, ProductName, Description, Category, UnitCost, UnitPrice\n",
    "- Inventory - InventoryID, ProductID, QuantityInStock, LastUpdateTime\n",
    "- Coupon - CouponID, CouponCode, CouponType, Discount, ValidFrom, ValidTo"
   ]
  },
  {
   "cell_type": "markdown",
   "metadata": {},
   "source": [
    "**Step 3: Define relationships between these entities**\n",
    "\n",
    "- [Customer -> Order] One-to-Many: \n",
    "    - One customer can place multiple orders. \n",
    "    - The customer can also create an account but never place an order. \n",
    "- [Coupon -> Order] Many-to-Many: \n",
    "    - In an order, a customer can apply multiple coupons. \n",
    "    - One coupon can also be applied to different orders. \n",
    "    - For example, a customer can apply ‘SpringSale’ and ‘3for2’ coupons in an order. The ‘3for2’ coupon can be applied to multiple orders. \n",
    "    - There may also be discount coupons that have never been used. \n",
    "- [Order -> OrderDetails] One-to-Many: \n",
    "    - One order can include multiple products. We can use ‘OrderDetails’ to record the details of each product include in an order. \n",
    "- [Product -> OrderDetails] One-to-Many: \n",
    "    - Each OrderDetail can be associated with one and only one Product. \n",
    "    - One product can be associated with multiple order details which belong to different orders (one product can be purchased by multiple customers thus be added in multiple orders).  \n",
    "- [Product -> Inventory] One-to-One: \n",
    "    - Each Product has an inventory record and each inventory record represents the stock level of a particular product. \n",
    "- [Order -> Payment] One-to-One: \n",
    "    - Each order must has a payment and each payment is associated with one order.\n",
    "- [Order -> Date] Many-to-One: \n",
    "    - Each order can be associated with one date while multiple orders can be placed on the same date. \n",
    "    - There are also days when there are no orders. \n",
    "\n"
   ]
  },
  {
   "cell_type": "markdown",
   "metadata": {},
   "source": [
    "**Step 4: Create diagram to visualize table relationship**\n",
    "\n",
    "- Primary key (PK) uniquely identifies each record in a table\n",
    "- Foreign key (FK) helps establish relationships between tables by referencing the primary key of another table. \n",
    "\n",
    "![Data Model](./squaremetergardeningdatamodel.png)\n"
   ]
  },
  {
   "cell_type": "markdown",
   "metadata": {},
   "source": [
    "**Step 5: Create database**\n",
    "\n",
    "A SQL database is appropriate for this project. The choice of database depends on various factors. Here we use PostgreSQL. \n"
   ]
  },
  {
   "cell_type": "markdown",
   "metadata": {},
   "source": [
    "A SQL database is appropriate for this project. The choice of database depends on various factors. Here we use PostgreSQL. \n",
    "\n",
    "When creating tables in PostgreSQL, we need to follow a certain order to satisfy foreign key constraints, otherwise error ‘referenced table does not exist’ will occur. To aviod this error, we can <span style=\"color:red\">find tables without oreign key constraints and create these tables first, then create tables with foreign key constraints</span>. \n",
    "\n",
    "In this project, we can create tables in the following order: Customer, Coupon, Order, Payment, Product, Order_Detail, Inventory\n"
   ]
  },
  {
   "cell_type": "code",
   "execution_count": null,
   "metadata": {
    "vscode": {
     "languageId": "plaintext"
    }
   },
   "outputs": [],
   "source": [
    "-- Create Customer table\n",
    "CREATE TABLE Customer (\n",
    "    CustomerID SERIAL PRIMARY KEY,\n",
    "    FirstName VARCHAR(255) NOT NULL,\n",
    "    LastName VARCHAR(255) NOT NULL,\n",
    "    Email VARCHAR(255) UNIQUE NOT NULL,\n",
    "    Phone VARCHAR(20),\n",
    "    Address VARCHAR(255)\n",
    ");\n"
   ]
  },
  {
   "cell_type": "code",
   "execution_count": null,
   "metadata": {
    "vscode": {
     "languageId": "plaintext"
    }
   },
   "outputs": [],
   "source": [
    "-- Create Coupon table\n",
    "CREATE TABLE Coupon (\n",
    "    CouponID SERIAL PRIMARY KEY,\n",
    "    CouponCode VARCHAR(50) UNIQUE NOT NULL,\n",
    "    Discount DECIMAL(5,2) NOT NULL,\n",
    "    ValidFrom DATE NOT NULL,\n",
    "    ValidTo DATE NOT NULL,\n",
    "    Description TEXT\n",
    ");\n"
   ]
  },
  {
   "cell_type": "code",
   "execution_count": null,
   "metadata": {
    "vscode": {
     "languageId": "plaintext"
    }
   },
   "outputs": [],
   "source": [
    "-- Create the Order table\n",
    "CREATE TABLE Order (\n",
    "    OrderID SERIAL PRIMARY KEY,\n",
    "    CustomerID INT NOT NULL,\n",
    "    OrderDate DATE NOT NULL,\n",
    "    DeliveryAddress TEXT,\n",
    "    CouponID INT,\n",
    "    TotalAmount DECIMAL(10, 2) NOT NULL,\n",
    "    DiscountAmount DECIMAL(10, 2),\n",
    "    PaymentID INT, \n",
    "    CustomerMessage TEXT,\n",
    "    FOREIGN KEY (CustomerID) REFERENCES Customer(CustomerID),\n",
    "    FOREIGN KEY (CouponID) REFERENCES Coupon(CouponD),\n",
    "    FOREIGN KEY (PaymentID) REFERENCES payment(PaymentID)\n",
    ");\n"
   ]
  },
  {
   "cell_type": "code",
   "execution_count": null,
   "metadata": {
    "vscode": {
     "languageId": "plaintext"
    }
   },
   "outputs": [],
   "source": [
    "-- Create the Payment table\n",
    "CREATE TABLE Payment (\n",
    "    PaymentID SERIAL PRIMARY KEY,\n",
    "    OrderID INT UNIQUE NOT NULL,\n",
    "    PaymentMethod VARCHAR(50) NOT NULL,\n",
    "    Amount DECIMAL(10, 2) NOT NULL,\n",
    "    PaymentDate TIMESTAMP NOT NULL DEFAULT CURRENT_TIMESTAMP,\n",
    "    FOREIGN KEY (OrderID) REFERENCES Order(OrderID)\n",
    ");\n"
   ]
  },
  {
   "cell_type": "code",
   "execution_count": null,
   "metadata": {
    "vscode": {
     "languageId": "plaintext"
    }
   },
   "outputs": [],
   "source": [
    "-- Create the Product table\n",
    "CREATE TABLE Product (\n",
    "    ProductID SERIAL PRIMARY KEY,\n",
    "    ProductName VARCHAR(255) NOT NULL,\n",
    "    Description TEXT,\n",
    "    Category VARCHAR(50) CHECK (Category IN ('Spring', 'Summer', 'Autumn', 'Winter'))\n",
    "    UnitCost DECIMAL(10, 2) NOT NULL\n",
    "    UnitPrice DECIMAL(10, 2) NOT NULL\n",
    ");\n"
   ]
  },
  {
   "cell_type": "code",
   "execution_count": null,
   "metadata": {
    "vscode": {
     "languageId": "plaintext"
    }
   },
   "outputs": [],
   "source": [
    "-- Create Order_Detail table\n",
    "CREATE TABLE Order_Detail (\n",
    "    OrderDetailID SERIAL PRIMARY KEY,\n",
    "    OrderID INT NOT NULL,\n",
    "    ProductID INT NOT NULL,\n",
    "    Quantity INT NOT NULL,\n",
    "    UnitPrice DECIMAL(10,2) NOT NULL,\n",
    "    FOREIGN KEY (OrderID) REFERENCES Order(OrderID),\n",
    "    FOREIGN KEY (ProductID) REFERENCES Product(ProductID)\n",
    ");\n"
   ]
  },
  {
   "cell_type": "code",
   "execution_count": null,
   "metadata": {
    "vscode": {
     "languageId": "plaintext"
    }
   },
   "outputs": [],
   "source": [
    "-- Create Inventory table\n",
    "CREATE TABLE Inventory (\n",
    "    InventoryID INT PRIMARY KEY,\n",
    "    ProductID INT NOT NULL,\n",
    "    QuantityInStock INT NOT NULL,\n",
    "    LastUpdateTime TIMESTAMP DEFAULT CURRENT_TIMESTAMP,\n",
    "    FOREIGN KEY (ProductID) REFERENCES Product(ProductID)\n",
    ");\n"
   ]
  },
  {
   "cell_type": "markdown",
   "metadata": {},
   "source": [
    "Now we have established a database foundation for the **🌱Sqaure Meter Gardening🌱** project, providing reliable data support for its development and operation. "
   ]
  }
 ],
 "metadata": {
  "language_info": {
   "name": "python"
  }
 },
 "nbformat": 4,
 "nbformat_minor": 2
}
