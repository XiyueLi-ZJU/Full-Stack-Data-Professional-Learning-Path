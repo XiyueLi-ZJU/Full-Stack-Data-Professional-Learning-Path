{
 "cells": [
  {
   "cell_type": "markdown",
   "metadata": {},
   "source": [
    "The 🌱Sqaure Meter Gardening🌱 project is increasingly attracting attention from the community. To encourage more people in the community share the joy of farming and enjoy fresher, healthier vegetables and fruits with lower carbon footprint, the project team developed a platform. \n",
    "\n",
    "Through this platform, users can register as 🥬Produce Pioneers (Vendors)/ 🥑Produce Fans (Buyers). Vendors present their products on the website, set prices and provide product descriptions. Buyers browse the website, select desired products for purchase, and provide feedbacks.\n",
    "\n",
    "As the Chief Data Scientist in this team, you are responsible for developing KPIs to measure project performance and align with its objectives. After careful and meticulous consideration of the project objectives and comprehensive discussions with the project team, you decide to employ the following KPIs. These metrics will serve as indicators to evaluate the effectiveness and overall impact of the project, facilitating informed decision-making and continuous improvement efforts.\n"
   ]
  },
  {
   "cell_type": "markdown",
   "metadata": {},
   "source": [
    "1. Number of Users: The total number of individuals registered as users in the program, including both 🥬Produce Pioneers (Vendors) and 🥑Produce Fans (Buyers). It reflects the level of community engagement and interest in the project.\n",
    "2. Active Users: Users that have activities in last 60 days. This KPI tracks the number of users who actively engage with the project within last 60 days. \n",
    "3. Churn Rate: The rate at which usrs stop using the platform (no activity in last 60 days). Churn Rate = (Number of users lost / Number of users) * 100\n",
    "\n",
    "4. Order Volume: The total number of orders made through the platform.\n",
    "5. Average Order Value (AOV): The average amount of money spent by customers per order. AOV = Total Revenue / Number of Orders\n",
    "6. Basket Size: The average number of items purchased per order.\n",
    "\n",
    "7. User Satisfaction: Buyers can rate the order (optional). This KPI measures the satisfaction levels of buyers through surveys or feedback ratings. It assesses the user experience and quality of service provided by the project.\n",
    "8. Conversion Rate: The percentage of website visitors who make a purchase. Conversion Rate = (Number of Orders / Number of Website Visits) * 100"
   ]
  },
  {
   "cell_type": "markdown",
   "metadata": {},
   "source": [
    "These KPIs provide insights into the health and performance of the 🌱Sqaure Meter Gardening🌱 project. With the development of this project and the adaptation of its strategy, other KPIs may also become relevant. Close monitoring and timely analysis of these KPIs can help the management team in making informed decisions and driving project growth."
   ]
  }
 ],
 "metadata": {
  "language_info": {
   "name": "python"
  }
 },
 "nbformat": 4,
 "nbformat_minor": 2
}
