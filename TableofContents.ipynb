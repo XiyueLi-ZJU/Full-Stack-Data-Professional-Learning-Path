{
 "cells": [
  {
   "cell_type": "markdown",
   "id": "e29c806a",
   "metadata": {},
   "source": [
    "# Skills \n",
    "\n",
    "Skills required for full-stack data professionals. \n",
    "\n",
    "## Data Engineering\n",
    "- Data Collection and Transformation \n",
    "- Data Profiling and Data Quality Assessment\n",
    "- Data Pipeline Development\n",
    "\n",
    "## Data Analytics\n",
    "- Data Exploration and Analysis \n",
    "- Data Interpretation and Visualization\n",
    "\n",
    "## Data Science\n",
    "- Statistics \n",
    "- [Machine Learning](./DataScience/MachineLearning/MachineLearning.ipynb)\n",
    "\n",
    "## Data Management\n",
    "- Data Architcture \n",
    "- Data Modeling \n",
    "- Data Governance & Security\n"
   ]
  },
  {
   "cell_type": "markdown",
   "id": "ba70d23c",
   "metadata": {},
   "source": [
    "# Knowledge\n",
    "\n",
    "- Git\n",
    "- [Diagrams](./Knowledge/Diagrams.ipynb)\n",
    "- Agile\n",
    "- IoT"
   ]
  },
  {
   "cell_type": "markdown",
   "id": "733580aa",
   "metadata": {},
   "source": [
    "# Certifications\n",
    "\n",
    "- [Microsoft & Azure](https://learn.microsoft.com/en-us/certifications/browse/)\n",
    "    - (PL-300) Power BI Data Analyst Associate\n",
    "    - (DP-900) Azure Data Fundamentals -> (DP-500) Azure Enterprise data Analyst Associate | (DP-203) Azure Data Engineer Associate | (DP-100) Azure Data Scientist Associate\n",
    "    - (AI-900) Azure AI Fundamentals -> (AI-102) Azure AI Engineer Associate\n",
    "    - (AZ-900) Azure Fundamentals -> (AZ-104) Azure Administrator Associate -> (AZ 305) Azure Solutions Architect Expert \n",
    "\n",
    "- [AWS](https://aws.amazon.com/certification/)\n",
    "    - AWS Cloud Practioner -> AWS Solutions Architect Associate -> AWS Solutions Architect Professional\n",
    "    - AWS Data Analytics Specialty \n",
    "    - AWS Machine Learning Specialty\n",
    "    \n",
    "- [GCP](https://cloud.google.com/learn/certification#why-get-google-cloud-certified)\n",
    "    - Professional Data Engineer | Professional Machine Learning Engineer \n",
    "    - Professional Cloud Database Engineer\n",
    "    - Professional Cloud Architect\n",
    "\n",
    "- [CDMP (Certified for Data Management Professional)](https://cdmp.info/exams/)\n",
    "    - Fundamentals Exam: Associate/Professional/Master/Fellow\n",
    "    - Specialist Exam: Data Modelling and Design, Metadata, Data Quality, Data Governance, Data Warehousing & Business Intelligence, Reference And Master Data Management,  Data Integration And Interoperability \n",
    "\n",
    "- [Kubernetes](https://kubernetes.io/training/)\n",
    "    - Kubernetes and Cloud Native Associate (KCNA)\n",
    "    - Certified Kubernetes Application Developer (CKAD)\n",
    "    - Certified Kubernetes Administrator (CKA)\n",
    "    - Certified Kubernetes Security Specialist (CKS)\n",
    "    \n",
    "- [TOGAF](https://www.opengroup.org/togaf)\n"
   ]
  },
  {
   "cell_type": "markdown",
   "id": "1ad2b4fd",
   "metadata": {},
   "source": [
    "# Readings\n",
    "\n",
    "## Books\n",
    "- Fundamentals of Data Engineering: Plan and Build Roubust Data Systems\n",
    "- Analytical Skills for AI & Data Science\n",
    "- Data Pipelines Pocket Reference: Moving and Processing Data for Analytics\n",
    "- Data Mesh: Delivering Data-Driven Value at Scale\n",
    "- Data Managment at Scale: Best Practices for Enterprise Architecture \n",
    "- Foundations for Architecting Data Solutions: Managing Successful Data Projects Managing Successful Data Projects\n",
    "- Design Data Intensive Applications\n",
    "- DAMA-DMBOK: Data Management Body of Knowledge\n",
    "- Non-Invasive Data Governance: The Path of Least Resistance and Greatest Success\n",
    "\n",
    "## Websites\n",
    "\n",
    "- [Medium - Technology - Data Science | Artificial Intelligence](https://medium.com/tag/technology)\n",
    "- [Data Science Centra](https://www.datasciencecentral.com/)\n"
   ]
  }
 ],
 "metadata": {
  "kernelspec": {
   "display_name": "Python 3",
   "language": "python",
   "name": "python3"
  },
  "language_info": {
   "codemirror_mode": {
    "name": "ipython",
    "version": 3
   },
   "file_extension": ".py",
   "mimetype": "text/x-python",
   "name": "python",
   "nbconvert_exporter": "python",
   "pygments_lexer": "ipython3",
   "version": "3.8.8"
  }
 },
 "nbformat": 4,
 "nbformat_minor": 5
}
